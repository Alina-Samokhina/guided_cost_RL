{
 "cells": [
  {
   "cell_type": "markdown",
   "metadata": {},
   "source": [
    "[Course](http://deeppavlov.ai/rl_course_2020) project #6."
   ]
  },
  {
   "cell_type": "markdown",
   "metadata": {},
   "source": [
    "# Problem description"
   ]
  },
  {
   "cell_type": "markdown",
   "metadata": {},
   "source": [
    "Reinforcement learning can acquire complex behaviors. When talking about reinforcement learning problem statement, it is supposed we have an environment and some agent. They communicate through actions, states and reward. States and actions are usually quite simple, and given specific agent in specific environment there's not much we can do about state or action space. As for reward, it can be defined by us. Reward design is crucial for solving the problem, but it is difficult to find some function that can  be  optimized effectively and encodes the correct task\n",
    "\n",
    "![circle](./imgs/circle.png)"
   ]
  },
  {
   "cell_type": "markdown",
   "metadata": {},
   "source": [
    "So, if we learn policy, why don't learn the reward, too?\n",
    "\n",
    "The main idea of the [paper](https://arxiv.org/pdf/1603.00448.pdf) is to have a reward (cost function in authors terms) being defined with a neural network. Cost function and policy are learned simultaneously."
   ]
  },
  {
   "cell_type": "markdown",
   "metadata": {},
   "source": [
    "# Main Idea "
   ]
  },
  {
   "cell_type": "markdown",
   "metadata": {},
   "source": [
    "This method is called 'guided costlearning' because the  policy  optimization  “guides”  the  cost  toward good regions of the space."
   ]
  },
  {
   "cell_type": "markdown",
   "metadata": {},
   "source": [
    "\"We use rich, expressive function approximators, in the form  of  neural  networks,  to  learn  cost  functions  directly on  raw  state  representations. \""
   ]
  },
  {
   "cell_type": "markdown",
   "metadata": {},
   "source": [
    "Since I don't have any expert trajectories for my environments, for demo trajectories I'll use some other good algorithm result."
   ]
  },
  {
   "cell_type": "markdown",
   "metadata": {},
   "source": [
    "# Environmemt"
   ]
  },
  {
   "cell_type": "markdown",
   "metadata": {},
   "source": [
    "At first we should make sure that our algorithm works on something simple and then to look at more complex environments. (Spoiler: for now it doesn't)\n",
    "\n",
    "1. For trial runs we use CartPole: \n",
    "    4 floats as state, 2 discrete actions\n",
    "\n",
    "2. To go deeper - Atari environments, which we later can compare to benchmarks from [here](http://htmlpreview.github.io/?https://github.com/openai/baselines/blob/master/benchmarks_atari10M.htm)"
   ]
  },
  {
   "cell_type": "markdown",
   "metadata": {},
   "source": [
    "(action and states spaces, reward function) specific aspects of env if present"
   ]
  },
  {
   "cell_type": "markdown",
   "metadata": {},
   "source": [
    "# Imports"
   ]
  },
  {
   "cell_type": "code",
   "execution_count": 1,
   "metadata": {
    "ExecuteTime": {
     "end_time": "2020-06-18T20:42:36.434729Z",
     "start_time": "2020-06-18T20:42:34.370501Z"
    }
   },
   "outputs": [],
   "source": [
    "import gym\n",
    "from gym import envs\n",
    "import random\n",
    "import numpy as np\n",
    "import matplotlib.pyplot as plt\n",
    "import torch\n",
    "\n",
    "from torch.optim.lr_scheduler import StepLR\n",
    "from IPython.display import clear_output\n",
    "\n",
    "import gcl\n",
    "\n",
    "%matplotlib inline"
   ]
  },
  {
   "cell_type": "markdown",
   "metadata": {},
   "source": [
    "# toy env cartpole "
   ]
  },
  {
   "cell_type": "markdown",
   "metadata": {},
   "source": [
    "## General settings"
   ]
  },
  {
   "cell_type": "code",
   "execution_count": 3,
   "metadata": {
    "ExecuteTime": {
     "end_time": "2020-06-18T20:42:36.486162Z",
     "start_time": "2020-06-18T20:42:36.468868Z"
    }
   },
   "outputs": [
    {
     "data": {
      "text/plain": [
       "<torch._C.Generator at 0x7f97d5ec32f0>"
      ]
     },
     "execution_count": 3,
     "metadata": {},
     "output_type": "execute_result"
    }
   ],
   "source": [
    "seed = 42\n",
    "random.seed(seed)\n",
    "np.random.seed(seed)\n",
    "torch.manual_seed(seed)"
   ]
  },
  {
   "cell_type": "code",
   "execution_count": 4,
   "metadata": {
    "ExecuteTime": {
     "end_time": "2020-06-18T20:42:36.505568Z",
     "start_time": "2020-06-18T20:42:36.494440Z"
    }
   },
   "outputs": [],
   "source": [
    "device = torch.device('cuda' if torch.cuda.is_available() else 'cpu')"
   ]
  },
  {
   "cell_type": "code",
   "execution_count": 5,
   "metadata": {
    "ExecuteTime": {
     "end_time": "2020-06-18T20:42:36.698029Z",
     "start_time": "2020-06-18T20:42:36.515679Z"
    }
   },
   "outputs": [
    {
     "name": "stderr",
     "output_type": "stream",
     "text": [
      "/home/alina/conda/anaconda3/lib/python3.7/site-packages/gym/logger.py:30: UserWarning: \u001b[33mWARN: Box bound precision lowered by casting to float32\u001b[0m\n",
      "  warnings.warn(colorize('%s: %s'%('WARN', msg % args), 'yellow'))\n"
     ]
    }
   ],
   "source": [
    "env_name = 'CartPole-v1'\n",
    "env = gcl.make_env_cartpole(env_name, seed)\n",
    "state = env.reset()\n",
    "\n",
    "n_actions = env.action_space.n\n",
    "state_shape = env.observation_space.shape"
   ]
  },
  {
   "cell_type": "markdown",
   "metadata": {},
   "source": [
    "## getting demo trajectories"
   ]
  },
  {
   "cell_type": "code",
   "execution_count": 6,
   "metadata": {
    "ExecuteTime": {
     "end_time": "2020-06-18T20:42:36.711162Z",
     "start_time": "2020-06-18T20:42:36.705314Z"
    }
   },
   "outputs": [],
   "source": [
    "model = gcl.AgentVPG(state_shape, n_actions, 'toy')"
   ]
  },
  {
   "cell_type": "code",
   "execution_count": 7,
   "metadata": {
    "ExecuteTime": {
     "end_time": "2020-06-18T20:42:36.721699Z",
     "start_time": "2020-06-18T20:42:36.713767Z"
    }
   },
   "outputs": [],
   "source": [
    "optimizer = torch.optim.Adam(model.parameters(), 1e-3)\n",
    "scheduler = StepLR(optimizer, step_size=1000, gamma=0.9)"
   ]
  },
  {
   "cell_type": "code",
   "execution_count": 8,
   "metadata": {
    "ExecuteTime": {
     "end_time": "2020-06-18T20:45:52.800869Z",
     "start_time": "2020-06-18T20:42:36.735467Z"
    },
    "scrolled": false
   },
   "outputs": [
    {
     "name": "stdout",
     "output_type": "stream",
     "text": [
      "mean reward:733.160\n"
     ]
    },
    {
     "data": {
      "image/png": "[encoded data removed]",
      "text/plain": [
       "<Figure size 648x432 with 1 Axes>"
      ]
     },
     "metadata": {
      "needs_background": "light"
     },
     "output_type": "display_data"
    }
   ],
   "source": [
    "mean_rewards = []\n",
    "for i in range(100):\n",
    "    rewards = [gcl.train_vpg_on_session(model, env, *model.generate_session(env), optimizer)\n",
    "               for _ in range(100)] \n",
    "    mean_rewards.append(np.mean(rewards))\n",
    "    if i % 5:\n",
    "        clear_output(True)\n",
    "        print(\"mean reward:%.3f\" % (np.mean(rewards)))\n",
    "        plt.figure(figsize=[9, 6])\n",
    "        plt.title(\"Mean reward per 100 games\")\n",
    "        plt.plot(mean_rewards)\n",
    "        plt.grid()\n",
    "        plt.show()\n",
    "    \n",
    "    if np.mean(rewards) > 500:\n",
    "        break"
   ]
  },
  {
   "cell_type": "code",
   "execution_count": 9,
   "metadata": {
    "ExecuteTime": {
     "end_time": "2020-06-18T20:45:52.819556Z",
     "start_time": "2020-06-18T20:45:52.807870Z"
    }
   },
   "outputs": [],
   "source": [
    "torch.save(model.state_dict(), 'model_vpg.pt')\n",
    "#model.load_state_dict('model_vpg.pt')"
   ]
  },
  {
   "cell_type": "code",
   "execution_count": 10,
   "metadata": {
    "ExecuteTime": {
     "end_time": "2020-06-18T20:45:52.837224Z",
     "start_time": "2020-06-18T20:45:52.826132Z"
    }
   },
   "outputs": [],
   "source": [
    "num_demo = 500"
   ]
  },
  {
   "cell_type": "code",
   "execution_count": 11,
   "metadata": {
    "ExecuteTime": {
     "end_time": "2020-06-18T20:51:40.373586Z",
     "start_time": "2020-06-18T20:45:52.845748Z"
    }
   },
   "outputs": [],
   "source": [
    "demo_samples = [model.generate_session(env) for i in range(num_demo)]"
   ]
  },
  {
   "cell_type": "markdown",
   "metadata": {},
   "source": [
    "## GCL training"
   ]
  },
  {
   "cell_type": "markdown",
   "metadata": {},
   "source": [
    "We take cost function architecture from the paper (section 6.1). For the cartpole it might be overkill. Let's see."
   ]
  },
  {
   "cell_type": "markdown",
   "metadata": {},
   "source": [
    "We're supposed to have regularization on weights and some not straightforward thing to calculate the cost. We'll make the framework so that it could be expanded in the future, but for now we won't be doing this equation (2)"
   ]
  },
  {
   "cell_type": "code",
   "execution_count": 12,
   "metadata": {
    "ExecuteTime": {
     "end_time": "2020-06-18T20:51:40.379529Z",
     "start_time": "2020-06-18T20:51:40.374997Z"
    }
   },
   "outputs": [],
   "source": [
    "new_model = gcl.AgentVPG(state_shape, n_actions, 'toy')\n",
    "cost = gcl.CostNN(state_shape)\n",
    "optimizer_model = torch.optim.Adam(new_model.parameters(), 1e-3)\n",
    "optimizer_cost = torch.optim.Adam(cost.parameters(), 1e-3)"
   ]
  },
  {
   "cell_type": "code",
   "execution_count": 13,
   "metadata": {
    "ExecuteTime": {
     "end_time": "2020-06-18T20:54:33.215652Z",
     "start_time": "2020-06-18T20:51:40.381041Z"
    },
    "scrolled": false
   },
   "outputs": [
    {
     "name": "stdout",
     "output_type": "stream",
     "text": [
      "mean reward:9.000\n"
     ]
    },
    {
     "data": {
      "image/png": "[encoded data removed]",
      "text/plain": [
       "<Figure size 1152x432 with 2 Axes>"
      ]
     },
     "metadata": {
      "needs_background": "light"
     },
     "output_type": "display_data"
    }
   ],
   "source": [
    "mean_rewards = []\n",
    "mean_costs = []\n",
    "size = 100\n",
    "samples = [new_model.generate_session(env) for _ in range(int(size/2))]\n",
    "for i in range(100):\n",
    "    traj = [new_model.generate_session(env) for _ in range(int(size))]\n",
    "    samples = samples + traj\n",
    "    #generate samples\n",
    "    demo_trajs_ids = np.random.choice(range(len(demo_samples)), size)\n",
    "    demo_trajs = np.array(demo_samples)[demo_trajs_ids]\n",
    "    #sampled_trajs_ids = np.random.choice(range(len(samples)), size)\n",
    "    sampled_trajs = traj#np.array(samples)[sampled_trajs_ids]\n",
    "    rewards, costs = [],  []\n",
    "    for (demo_traj, sampled_traj) in zip(demo_trajs, sampled_trajs):\n",
    "        rew, cost_item = gcl.train_gcl_on_session(\n",
    "                        new_model,\n",
    "                        env,\n",
    "                        cost, \n",
    "                        demo_traj,\n",
    "                        sampled_traj,\n",
    "                        optimizer_model, \n",
    "                        optimizer_cost,\n",
    "                    )\n",
    "    \n",
    "    rewards.append(rew)\n",
    "    costs.append(cost_item)\n",
    "    mean_rewards.append(np.mean(rewards))\n",
    "    mean_costs.append(np.mean(costs))\n",
    "    \n",
    "    if i % 5:\n",
    "        clear_output(True)\n",
    "        print(\"mean reward:%.3f\" % (np.mean(rewards)))\n",
    "        \n",
    "        plt.figure(figsize=[16, 6])\n",
    "        plt.subplot(1, 2, 1)\n",
    "\n",
    "        plt.title(f\"Mean reward per {size} games\")\n",
    "        plt.plot(mean_rewards)\n",
    "        plt.grid()\n",
    "\n",
    "        \n",
    "        plt.subplot(1, 2, 2)\n",
    "        plt.title(f\"Mean cost per {size} games\")\n",
    "        plt.plot(mean_costs)\n",
    "        plt.grid()\n",
    "        \n",
    "        plt.show()\n",
    "\n",
    "    \n",
    "    if np.mean(rewards) > 500:\n",
    "        break"
   ]
  },
  {
   "cell_type": "markdown",
   "metadata": {},
   "source": [
    "# Training on Atari "
   ]
  },
  {
   "cell_type": "markdown",
   "metadata": {},
   "source": [
    "Unfortunately, my too basic knowledge of RL made it impossible to run it on Atari envs in time, despite all my attempts.  "
   ]
  }
 ],
 "metadata": {
  "hide_input": false,
  "kernelspec": {
   "display_name": "Python 3",
   "language": "python",
   "name": "python3"
  },
  "language_info": {
   "codemirror_mode": {
    "name": "ipython",
    "version": 3
   },
   "file_extension": ".py",
   "mimetype": "text/x-python",
   "name": "python",
   "nbconvert_exporter": "python",
   "pygments_lexer": "ipython3",
   "version": "3.7.6"
  },
  "toc": {
   "base_numbering": 1,
   "nav_menu": {},
   "number_sections": true,
   "sideBar": true,
   "skip_h1_title": false,
   "title_cell": "Table of Contents",
   "title_sidebar": "Contents",
   "toc_cell": false,
   "toc_position": {},
   "toc_section_display": true,
   "toc_window_display": false
  }
 },
 "nbformat": 4,
 "nbformat_minor": 4
}
